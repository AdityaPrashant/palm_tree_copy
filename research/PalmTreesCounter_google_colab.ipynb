{
  "cells": [
    {
      "cell_type": "code",
      "execution_count": null,
      "metadata": {
        "id": "5U8NsGh7ZS0j"
      },
      "outputs": [],
      "source": [
        "\n",
        "!mkdir -p ~/.kaggle\n",
        "!cp kaggle.json ~/.kaggle/  # upload the kaggle.json after downloading it from kaggle\n",
        "!chmod 600 ~/.kaggle/kaggle.json\n"
      ]
    },
    {
      "cell_type": "code",
      "execution_count": null,
      "metadata": {
        "id": "1AcxhJmUXfpi"
      },
      "outputs": [],
      "source": [
        "!git clone https://github.com/franklinosei/palm-trees-counter.git\n",
        "%cd palm-trees-counter\n",
        "!pip install -q -r requirements.txt"
      ]
    },
    {
      "cell_type": "code",
      "execution_count": null,
      "metadata": {
        "id": "yLxj_q6SEOSE"
      },
      "outputs": [],
      "source": []
    },
    {
      "cell_type": "code",
      "execution_count": null,
      "metadata": {
        "id": "fecyi-Z9bIUJ"
      },
      "outputs": [],
      "source": [
        "\n",
        "import os\n",
        "os.environ['MLFLOW_TRACKING_URI'] = 'https://dagshub.com/franklinosei/palm-trees-counter.mlflow'\n",
        "os.environ['MLFLOW_TRACKING_USERNAME'] = 'franklinosei'\n",
        "os.environ['MLFLOW_TRACKING_PASSWORD'] = 'xxxxxxxxxxxxxxxxxxxxxxxxxxxxxxxxxxxxxxxxxxxxxxxxxx' # replace with your password from dagshub.com\n"
      ]
    },
    {
      "cell_type": "code",
      "execution_count": null,
      "metadata": {
        "id": "c1qwzbuxYPRN"
      },
      "outputs": [],
      "source": [
        "!ls"
      ]
    },
    {
      "cell_type": "code",
      "execution_count": null,
      "metadata": {
        "id": "PthJACqMZuGP"
      },
      "outputs": [],
      "source": [
        "# !python train.py\n",
        "!dvc repro"
      ]
    },
    {
      "cell_type": "code",
      "execution_count": null,
      "metadata": {
        "id": "K1IQ3N3pZydi"
      },
      "outputs": [],
      "source": []
    }
  ],
  "metadata": {
    "accelerator": "GPU",
    "colab": {
      "gpuType": "T4",
      "private_outputs": true,
      "provenance": []
    },
    "kernelspec": {
      "display_name": "Python 3",
      "name": "python3"
    },
    "language_info": {
      "name": "python"
    }
  },
  "nbformat": 4,
  "nbformat_minor": 0
}
